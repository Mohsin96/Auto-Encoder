{
 "cells": [
  {
   "cell_type": "markdown",
   "metadata": {},
   "source": [
    "## Self-Taught Learning (Auto Encoder)\n",
    "\n",
    "### Developer: Mayana Mohsin Khan\n",
    "\n",
    "### Loading packages"
   ]
  },
  {
   "cell_type": "code",
   "execution_count": 1,
   "metadata": {},
   "outputs": [
    {
     "name": "stderr",
     "output_type": "stream",
     "text": [
      "Registered S3 methods overwritten by 'ggplot2':\n",
      "  method         from \n",
      "  [.quosures     rlang\n",
      "  c.quosures     rlang\n",
      "  print.quosures rlang\n",
      "Warning message:\n",
      "\"package 'gridExtra' was built under R version 3.6.3\""
     ]
    }
   ],
   "source": [
    "# for plotting\n",
    "library('ggplot2') \n",
    "library('gridExtra')"
   ]
  },
  {
   "cell_type": "code",
   "execution_count": 2,
   "metadata": {},
   "outputs": [
    {
     "name": "stderr",
     "output_type": "stream",
     "text": [
      "\n",
      "----------------------------------------------------------------------\n",
      "\n",
      "Your next step is to start H2O:\n",
      "    > h2o.init()\n",
      "\n",
      "For H2O package documentation, ask for help:\n",
      "    > ??h2o\n",
      "\n",
      "After starting H2O, you can use the Web UI at http://localhost:54321\n",
      "For more information visit http://docs.h2o.ai\n",
      "\n",
      "----------------------------------------------------------------------\n",
      "\n",
      "\n",
      "Attaching package: 'h2o'\n",
      "\n",
      "The following objects are masked from 'package:stats':\n",
      "\n",
      "    cor, sd, var\n",
      "\n",
      "The following objects are masked from 'package:base':\n",
      "\n",
      "    %*%, %in%, &&, ||, apply, as.factor, as.numeric, colnames,\n",
      "    colnames<-, ifelse, is.character, is.factor, is.numeric, log,\n",
      "    log10, log1p, log2, round, signif, trunc\n",
      "\n"
     ]
    }
   ],
   "source": [
    "# for deep learning\n",
    "options(warn=-1)\n",
    "library(h2o)"
   ]
  },
  {
   "cell_type": "code",
   "execution_count": 3,
   "metadata": {},
   "outputs": [
    {
     "name": "stdout",
     "output_type": "stream",
     "text": [
      "\n",
      "H2O is not running yet, starting it now...\n",
      "\n",
      "Note:  In case of errors look at the following log files:\n",
      "    C:\\Users\\MOHSIN~1\\AppData\\Local\\Temp\\RtmpmsW8Bg\\file2d3826ef1a0c/h2o_Mohsin_Khan_started_from_r.out\n",
      "    C:\\Users\\MOHSIN~1\\AppData\\Local\\Temp\\RtmpmsW8Bg\\file2d3870c1303/h2o_Mohsin_Khan_started_from_r.err\n",
      "\n",
      "\n",
      "Starting H2O JVM and connecting:  Connection successful!\n",
      "\n",
      "R is connected to the H2O cluster: \n",
      "    H2O cluster uptime:         2 seconds 696 milliseconds \n",
      "    H2O cluster timezone:       Australia/Sydney \n",
      "    H2O data parsing timezone:  UTC \n",
      "    H2O cluster version:        3.30.0.4 \n",
      "    H2O cluster version age:    11 days  \n",
      "    H2O cluster name:           H2O_started_from_R_Mohsin_Khan_rtv739 \n",
      "    H2O cluster total nodes:    1 \n",
      "    H2O cluster total memory:   5.33 GB \n",
      "    H2O cluster total cores:    4 \n",
      "    H2O cluster allowed cores:  4 \n",
      "    H2O cluster healthy:        TRUE \n",
      "    H2O Connection ip:          localhost \n",
      "    H2O Connection port:        54321 \n",
      "    H2O Connection proxy:       NA \n",
      "    H2O Internal Security:      FALSE \n",
      "    H2O API Extensions:         Amazon S3, Algos, AutoML, Core V3, TargetEncoder, Core V4 \n",
      "    R Version:                  R version 3.6.1 (2019-07-05) \n",
      "\n"
     ]
    }
   ],
   "source": [
    "# Create a local H2o host\n",
    "localH2O =  h2o.init(nthreads = -1, port = 54321, max_mem_size = '6G', startH2O = TRUE)"
   ]
  },
  {
   "cell_type": "code",
   "execution_count": 4,
   "metadata": {},
   "outputs": [],
   "source": [
    "####################### GENERAL AUXILIARY FUNCTIONS #######################\n",
    "error.rate <- function(Y1, T1){\n",
    "    if (nrow(Y1)!=nrow(T1)){\n",
    "    stop('error.rate: size of true lables and predicted labels mismatch')\n",
    "    }\n",
    "    return (sum(T1!=Y1)/nrow(T1))\n",
    "}"
   ]
  },
  {
   "cell_type": "code",
   "execution_count": 5,
   "metadata": {},
   "outputs": [
    {
     "name": "stdout",
     "output_type": "stream",
     "text": [
      "  |======================================================================| 100%\n",
      "  |======================================================================| 100%\n",
      "  |======================================================================| 100%\n"
     ]
    }
   ],
   "source": [
    "# Students: Use the \"absolute\" path to the datasets on your machine (important)\n",
    "labeled.frame <- h2o.importFile(path = 'C:/Users/Mohsin Khan/FIT Data Science Monash Resources/FIT5201/Assignment 2/Task2C_labeled.csv' ,sep=',') \n",
    "unlabeled.frame <- h2o.importFile(path = 'C:/Users/Mohsin Khan/FIT Data Science Monash Resources/FIT5201/Assignment 2/Task2C_unlabeled.csv' ,sep=',') \n",
    "test.frame <- h2o.importFile(path = 'C:/Users/Mohsin Khan/FIT Data Science Monash Resources/FIT5201/Assignment 2/Task2C_test.csv' ,sep=',') "
   ]
  },
  {
   "cell_type": "code",
   "execution_count": 6,
   "metadata": {},
   "outputs": [],
   "source": [
    "labeled.frame[,1] <- as.factor(labeled.frame$label) # labeled dataset\n",
    "unlabeled.frame[,1] <- NA \n",
    "train.frame <- h2o.rbind(labeled.frame[,-1], unlabeled.frame[,-1]) # cmbine labelled and unlabbeled to create training set\n",
    "test.frame[,1] <- as.factor(test.frame$label) # create the testing frame"
   ]
  },
  {
   "cell_type": "code",
   "execution_count": 25,
   "metadata": {},
   "outputs": [
    {
     "name": "stdout",
     "output_type": "stream",
     "text": [
      "  |======================================================================| 100%\n",
      "  |======================================================================| 100%\n",
      "  |======================================================================| 100%\n",
      "  |======================================================================| 100%\n",
      "  |======================================================================| 100%\n",
      "  |======================================================================| 100%\n",
      "  |======================================================================| 100%\n",
      "  |======================================================================| 100%\n",
      "  |======================================================================| 100%\n",
      "  |======================================================================| 100%\n",
      "  |======================================================================| 100%\n",
      "  |======================================================================| 100%\n",
      "  |======================================================================| 100%\n",
      "  |======================================================================| 100%\n",
      "  |======================================================================| 100%\n",
      "  |======================================================================| 100%\n",
      "  |======================================================================| 100%\n",
      "  |======================================================================| 100%\n",
      "  |======================================================================| 100%\n",
      "  |======================================================================| 100%\n",
      "  |======================================================================| 100%\n",
      "  |======================================================================| 100%\n",
      "  |======================================================================| 100%\n",
      "  |======================================================================| 100%\n",
      "  |======================================================================| 100%\n",
      "  |======================================================================| 100%\n",
      "  |======================================================================| 100%\n",
      "  |======================================================================| 100%\n",
      "  |======================================================================| 100%\n",
      "  |======================================================================| 100%\n",
      "  |======================================================================| 100%\n",
      "  |======================================================================| 100%\n",
      "  |======================================================================| 100%\n",
      "  |======================================================================| 100%\n",
      "  |======================================================================| 100%\n",
      "  |======================================================================| 100%\n",
      "  |======================================================================| 100%\n",
      "  |======================================================================| 100%\n",
      "  |======================================================================| 100%\n",
      "  |======================================================================| 100%\n",
      "  |======================================================================| 100%\n",
      "  |======================================================================| 100%\n",
      "  |======================================================================| 100%\n",
      "  |======================================================================| 100%\n",
      "  |======================================================================| 100%\n",
      "  |======================================================================| 100%\n",
      "  |======================================================================| 100%\n",
      "  |======================================================================| 100%\n",
      "  |======================================================================| 100%\n",
      "  |======================================================================| 100%\n",
      "  |======================================================================| 100%\n",
      "  |======================================================================| 100%\n",
      "  |======================================================================| 100%\n",
      "  |======================================================================| 100%\n",
      "  |======================================================================| 100%\n",
      "  |======================================================================| 100%\n",
      "  |======================================================================| 100%\n",
      "  |======================================================================| 100%\n",
      "  |======================================================================| 100%\n",
      "  |======================================================================| 100%\n",
      "  |======================================================================| 100%\n",
      "  |======================================================================| 100%\n",
      "  |======================================================================| 100%\n",
      "  |======================================================================| 100%\n",
      "  |======================================================================| 100%\n",
      "  |======================================================================| 100%\n",
      "  |======================================================================| 100%\n",
      "  |======================================================================| 100%\n",
      "  |======================================================================| 100%\n",
      "  |======================================================================| 100%\n",
      "  |======================================================================| 100%\n",
      "  |======================================================================| 100%\n",
      "  |======================================================================| 100%\n",
      "  |======================================================================| 100%\n",
      "  |======================================================================| 100%\n",
      "  |======================================================================| 100%\n",
      "  |======================================================================| 100%\n",
      "  |======================================================================| 100%\n",
      "  |======================================================================| 100%\n",
      "  |======================================================================| 100%\n",
      "  |======================================================================| 100%\n",
      "  |======================================================================| 100%\n",
      "  |======================================================================| 100%\n",
      "  |======================================================================| 100%\n",
      "  |======================================================================| 100%\n",
      "  |======================================================================| 100%\n",
      "  |======================================================================| 100%\n",
      "  |======================================================================| 100%\n",
      "  |======================================================================| 100%\n",
      "  |======================================================================| 100%\n",
      "  |======================================================================| 100%\n",
      "  |======================================================================| 100%\n",
      "  |======================================================================| 100%\n",
      "  |======================================================================| 100%\n",
      "  |======================================================================| 100%\n",
      "  |======================================================================| 100%\n",
      "  |======================================================================| 100%\n",
      "  |======================================================================| 100%\n",
      "  |======================================================================| 100%\n",
      "  |======================================================================| 100%\n",
      "  |======================================================================| 100%\n",
      "  |======================================================================| 100%\n",
      "  |======================================================================| 100%\n",
      "  |======================================================================| 100%\n",
      "  |======================================================================| 100%\n",
      "  |======================================================================| 100%\n",
      "  |======================================================================| 100%\n",
      "  |======================================================================| 100%\n",
      "  |======================================================================| 100%\n",
      "  |======================================================================| 100%\n",
      "  |======================================================================| 100%\n",
      "  |======================================================================| 100%\n",
      "  |======================================================================| 100%\n",
      "  |======================================================================| 100%\n",
      "  |======================================================================| 100%\n",
      "  |======================================================================| 100%\n",
      "  |======================================================================| 100%\n",
      "  |======================================================================| 100%\n",
      "  |======================================================================| 100%\n",
      "  |======================================================================| 100%\n",
      "  |======================================================================| 100%\n",
      "  |======================================================================| 100%\n",
      "  |======================================================================| 100%\n",
      "  |======================================================================| 100%\n",
      "  |======================================================================| 100%\n",
      "  |======================================================================| 100%\n",
      "  |======================================================================| 100%\n",
      "  |======================================================================| 100%\n",
      "  |======================================================================| 100%\n",
      "  |======================================================================| 100%\n",
      "  |======================================================================| 100%\n",
      "  |======================================================================| 100%\n",
      "  |======================================================================| 100%\n",
      "  |======================================================================| 100%\n",
      "  |======================================================================| 100%\n",
      "  |======================================================================| 100%\n",
      "  |======================================================================| 100%\n",
      "  |======================================================================| 100%\n",
      "  |======================================================================| 100%\n",
      "  |======================================================================| 100%\n",
      "  |======================================================================| 100%\n",
      "  |======================================================================| 100%\n",
      "  |======================================================================| 100%\n",
      "  |======================================================================| 100%\n",
      "  |======================================================================| 100%\n",
      "  |======================================================================| 100%\n",
      "  |======================================================================| 100%\n",
      "  |======================================================================| 100%\n",
      "  |======================================================================| 100%\n",
      "  |======================================================================| 100%\n",
      "  |======================================================================| 100%\n",
      "  |======================================================================| 100%\n",
      "  |======================================================================| 100%\n",
      "  |======================================================================| 100%\n",
      "  |======================================================================| 100%\n",
      "  |======================================================================| 100%\n",
      "  |======================================================================| 100%\n",
      "  |======================================================================| 100%\n",
      "  |======================================================================| 100%\n",
      "  |======================================================================| 100%\n"
     ]
    }
   ],
   "source": [
    "options(warn=-1)\n",
    "# Specify the number of hidden layers\n",
    "# increment hidden layers from 20 to 400 with a step of 20 each iteration\n",
    "hidden.layers <- seq(20,400,20) \n",
    "\n",
    "# Empty data frame to store errors\n",
    "NN.autoencode.error <- data.frame('hidden.layers' = seq(20,400,20), # Number of hidden layers\n",
    "                                 'reconstruction.error'=rep(0,20), # column to store reconstruction error for train datasamples\n",
    "                                 '3L.NN.err'=rep(0,20), # column to store 3 layer Neural Network error\n",
    "                                  'Self.thaught.err' = rep(0,20) # column to store self though NN error\n",
    "                                 )\n",
    "# build the Neural Net\n",
    "for (i in 1:length(hidden.layers)){\n",
    "    \n",
    "    # question 2: Build Autoencoder\n",
    "    NN.model.autoencoder <- h2o.deeplearning(    \n",
    "        x = 2:ncol(train.frame), # select all pixels\n",
    "        training_frame = train.frame, # specify the frame (imported file)    \n",
    "        hidden = c(hidden.layers[i]), # number of layers and their units\n",
    "        epochs = 20, # maximum number of epoches  \n",
    "        activation = 'Tanh', # activation function \n",
    "        autoencoder = TRUE,  # is it an autoencoder? Yes!\n",
    "    )\n",
    "    \n",
    "    reconstruction.errors <- h2o.anomaly(NN.model.autoencoder,train.frame) # Calculate the reconstruction errors\n",
    "    NN.autoencode.error[i,2] <- sqrt(sum(reconstruction.errors)) # Store the errors\n",
    "    \n",
    "    # questtion 4: Build 3 layer Neural Network\n",
    "    NN.model.3LNN <- h2o.deeplearning(    \n",
    "          x = 2:ncol(labeled.frame), # select all pixels + extra features\n",
    "          y = 1,\n",
    "          training_frame = labeled.frame, # specify the frame (imported file)    \n",
    "          hidden = c(hidden.layers[i]), # number of layers and their units\n",
    "          epochs = 30, # maximum number of epoches  \n",
    "          activation = 'Tanh', # activation function \n",
    "          autoencoder = FALSE, # is it an autoencoder? Yes!\n",
    "          l2 = 0.1\n",
    "    )\n",
    "\n",
    "    predict.3LNN <- h2o.predict(NN.model.3LNN, test.frame)$predict # get the predicition\n",
    "    error.3LNN <- error.rate(test.frame$label, predict.3LNN) # calculate eror \n",
    "    NN.autoencode.error[i,3] <- error.3LNN # store the error\n",
    "    \n",
    "    # question 5: Build Selft Thaough Learning \n",
    "    # combine the original labels and autoencoded labels\n",
    "    train.features  <- h2o.cbind(labeled.frame,h2o.deepfeatures(NN.model.autoencoder, labeled.frame, layer=1))\n",
    "    \n",
    "    # train the model on combined features\n",
    "    NN.model.self <- h2o.deeplearning(    \n",
    "      x = 2:ncol(train.features), # select all pixels + extra features\n",
    "      y = 1,\n",
    "      training_frame = train.features, # specify the frame (imported file)    \n",
    "      hidden = c(hidden.layers[i]), # number of layers and their units\n",
    "      epochs = 30, # maximum number of epoches  \n",
    "      activation = 'Tanh', # activation function \n",
    "      autoencoder = FALSE, # is it an autoencoder? Yes!\n",
    "      l2 = 0.1\n",
    "    )\n",
    "    \n",
    "    # Build the model for test datset\n",
    "    NN.model.test <- h2o.deeplearning(    \n",
    "        x = 2:ncol(test.frame), # select all pixels\n",
    "        training_frame = test.frame, # specify the frame (imported file)    \n",
    "        hidden = c(hidden.layers[i]), # number of layers and their units\n",
    "        epochs = 20, # maximum number of epoches  \n",
    "        activation = 'Tanh', # activation function \n",
    "        autoencoder = TRUE  # is it an autoencoder? Yes!\n",
    "    )\n",
    "    # Combine the test features and autoencoded test features\n",
    "    test.features  <- h2o.cbind(test.frame,h2o.deepfeatures(NN.model.test, test.frame, layer=1))\n",
    "\n",
    "    test.predict.self <- h2o.predict(NN.model.self, test.features)$predict # predict using the combined features and acutal features\n",
    "    self.thought.error <- error.rate(test.features$label, test.predict.self) # Calculate the error\n",
    "    NN.autoencode.error[i,4] <- self.thought.error # store the error\n",
    "}\n"
   ]
  },
  {
   "cell_type": "code",
   "execution_count": 37,
   "metadata": {},
   "outputs": [],
   "source": [
    "options(repr.plot.width=15, repr.plot.height = 8)\n",
    "library(reshape2)"
   ]
  },
  {
   "cell_type": "code",
   "execution_count": 38,
   "metadata": {
    "scrolled": false
   },
   "outputs": [
    {
     "data": {
      "image/png": "[encoded data removed]",
      "text/plain": [
       "plot without title"
      ]
     },
     "metadata": {},
     "output_type": "display_data"
    }
   ],
   "source": [
    "# Plotting the graphs\n",
    "# Question 3: Reconstruction Error vs Number of neurons in hidden layer\n",
    "ggplot(data = NN.autoencode.error, aes(x = hidden.layers, y = reconstruction.error)) + \n",
    "geom_line() + \n",
    "scale_color_discrete(guide = guide_legend(title = NULL)) + \n",
    "theme_minimal() +\n",
    "ggtitle(\"Reconstruction Error vs Number of neurons in hidden layer\")"
   ]
  },
  {
   "cell_type": "markdown",
   "metadata": {},
   "source": [
    "From the Grpah for reconstruction error, we can see that the error rate decreases initially and then the takes a peek to is over all low when the number of hidden neuros is `180` which is visible in the graph. Later the graph more o less follow a stormy peaks of short high and lows but not vary much and settle into a smooth curve at the end."
   ]
  },
  {
   "cell_type": "code",
   "execution_count": 39,
   "metadata": {},
   "outputs": [
    {
     "data": {
      "image/png": "[encoded data removed]",
      "text/plain": [
       "plot without title"
      ]
     },
     "metadata": {},
     "output_type": "display_data"
    }
   ],
   "source": [
    "# reshaping the data for plotting\n",
    "test.3nn.self.err.m <- melt(NN.autoencode.error[,c(-2)], id='hidden.layers') # reshape for visualization\n",
    "names(test.3nn.self.err.m) <- c('hidden.layers', 'type', 'error')\n",
    "# plot for testing errors for 3 layer neural network and self thaught neural network\n",
    "ggplot(data=test.3nn.self.err.m, aes(x = hidden.layers, y = error, color=type)) + \n",
    "geom_line() +\n",
    "scale_color_discrete(guide = guide_legend(title = NULL)) +\n",
    "ggtitle(\"3 layer NN and Self Thaught Learning vs test error\") + \n",
    "theme_minimal()"
   ]
  },
  {
   "cell_type": "markdown",
   "metadata": {},
   "source": [
    "When it comes to neural networks, they are cable of taking more parameters then data itself. So in our 3 layer neural network, we take in all the parameters to create the neural net which in self-taught learning, it take it the parameters that are generated from the autoencoder as additional features. \n",
    "\n",
    "When we compare both the models, the 3 layer neural net gives better error better initially but then once the autoencoder features are added to self though net, it help in the classification task as the autoencoder gives out the most important features based on weights while disregarding al the other features which in practical sense reduces the error of self-thought net. SO the 3 layer notes keeps trains on all the features while the self-thought net trains on all the features plus powerful features thus reducing the error.\n"
   ]
  },
  {
   "cell_type": "code",
   "execution_count": null,
   "metadata": {},
   "outputs": [],
   "source": []
  }
 ],
 "metadata": {
  "kernelspec": {
   "display_name": "R [conda env:deeplearning]",
   "language": "R",
   "name": "conda-env-deeplearning-r"
  },
  "language_info": {
   "codemirror_mode": "r",
   "file_extension": ".r",
   "mimetype": "text/x-r-source",
   "name": "R",
   "pygments_lexer": "r",
   "version": "3.6.1"
  }
 },
 "nbformat": 4,
 "nbformat_minor": 2
}
